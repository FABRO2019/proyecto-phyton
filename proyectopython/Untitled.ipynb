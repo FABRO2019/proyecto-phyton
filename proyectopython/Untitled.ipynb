{
 "cells": [
  {
   "cell_type": "markdown",
   "metadata": {},
   "source": [
    "<h1>Consulta de Dolar</h1>"
   ]
  },
  {
   "cell_type": "code",
   "execution_count": null,
   "metadata": {},
   "outputs": [],
   "source": []
  },
  {
   "cell_type": "code",
   "execution_count": null,
   "metadata": {},
   "outputs": [],
   "source": [
    "import requests\n",
    "\n",
    "fecha1 = input(\"ingrese fecha inicio:\" )\n",
    "fecha1 = fecha1.split(\"-\")\n",
    "dia1 = fecha1[0]\n",
    "mes1 = fecha1[1]\n",
    "anio1 = fecha1[2]\n",
    "\n",
    "fecha2 = input(\"ingrese fecha termino:\" )\n",
    "fecha2 = fecha2.split(\"-\")\n",
    "dia2 = fecha2[0]\n",
    "mes2 = fecha2[1]\n",
    "anio2 = fecha2[2]\n",
    "\n",
    "apikey = \"2eea1aaf4a2fc4acee58adcf008fc42247682f99\"\n",
    "\n",
    "endpoint = \"https://api.sbif.cl/api-sbifv3/recursos_api/dolar/periodo/\"\n",
    "\n",
    "url = endpoint + anio1 + \"/\" + mes1 + \"/dias_i/\" + dia1 + \"/\" + anio2 + \"/\" + mes2 + \"/dias_f/\" + dia2\n",
    "parametros = {\"apikey\": apikey, \"formato\":\"json\"}\n",
    "\n",
    "respuesta = requests.get(url, params = parametros)\n",
    "\n",
    "respuesta = respuesta.json()\n",
    "documento = open(\"observacion_del_dolar.txt\",\"w\")\n",
    "for valor in respuesta[\"Dolares\"]:\n",
    "    documento.write(str(valor) + \"\\n\")\n",
    "documento.close()\n",
    "print(\"ok\")\n",
    "\n",
    "    \n",
    "    \n",
    "\n",
    "\n"
   ]
  },
  {
   "cell_type": "code",
   "execution_count": 2,
   "metadata": {},
   "outputs": [
    {
     "name": "stdout",
     "output_type": "stream",
     "text": [
      "477.3640909090909\n"
     ]
    }
   ],
   "source": [
    "from ast import literal_eval\n",
    "import statistics\n",
    "\n",
    "lista_valor = list()\n",
    "documento = open (\"observacion_del_dolar.txt\",\"r\")\n",
    "for linea in documento: \n",
    "    lista = literal_eval(linea)\n",
    "    lista_valor.append(float(lista[\"Valor\"].replace(\",\",\".\")))\n",
    "documento.close()\n",
    "promedio = statistics.mean(lista_valor)\n",
    "print(promedio)\n"
   ]
  },
  {
   "cell_type": "code",
   "execution_count": null,
   "metadata": {},
   "outputs": [],
   "source": []
  }
 ],
 "metadata": {
  "kernelspec": {
   "display_name": "Python 3",
   "language": "python",
   "name": "python3"
  },
  "language_info": {
   "codemirror_mode": {
    "name": "ipython",
    "version": 3
   },
   "file_extension": ".py",
   "mimetype": "text/x-python",
   "name": "python",
   "nbconvert_exporter": "python",
   "pygments_lexer": "ipython3",
   "version": "3.7.4"
  }
 },
 "nbformat": 4,
 "nbformat_minor": 2
}
